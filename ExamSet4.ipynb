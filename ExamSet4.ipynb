{
 "cells": [
  {
   "cell_type": "code",
   "execution_count": 1,
   "id": "a67ff2c7",
   "metadata": {},
   "outputs": [],
   "source": [
    "import numpy as np\n",
    "import pandas as pd\n",
    "import matplotlib.pyplot as plt\n"
   ]
  },
  {
   "cell_type": "code",
   "execution_count": 5,
   "id": "9e03c4cf",
   "metadata": {},
   "outputs": [
    {
     "data": {
      "text/html": [
       "<div>\n",
       "<style scoped>\n",
       "    .dataframe tbody tr th:only-of-type {\n",
       "        vertical-align: middle;\n",
       "    }\n",
       "\n",
       "    .dataframe tbody tr th {\n",
       "        vertical-align: top;\n",
       "    }\n",
       "\n",
       "    .dataframe thead th {\n",
       "        text-align: right;\n",
       "    }\n",
       "</style>\n",
       "<table border=\"1\" class=\"dataframe\">\n",
       "  <thead>\n",
       "    <tr style=\"text-align: right;\">\n",
       "      <th></th>\n",
       "      <th>year</th>\n",
       "      <th>month</th>\n",
       "      <th>day</th>\n",
       "      <th>dep_time</th>\n",
       "      <th>sched_dep_time</th>\n",
       "      <th>dep_delay</th>\n",
       "      <th>arr_time</th>\n",
       "      <th>sched_arr_time</th>\n",
       "      <th>arr_delay</th>\n",
       "      <th>carrier</th>\n",
       "      <th>flight</th>\n",
       "      <th>tailnum</th>\n",
       "      <th>origin</th>\n",
       "      <th>dest</th>\n",
       "      <th>air_time</th>\n",
       "      <th>distance</th>\n",
       "      <th>hour</th>\n",
       "      <th>minute</th>\n",
       "      <th>time_hour</th>\n",
       "    </tr>\n",
       "  </thead>\n",
       "  <tbody>\n",
       "    <tr>\n",
       "      <th>0</th>\n",
       "      <td>2013</td>\n",
       "      <td>1</td>\n",
       "      <td>1</td>\n",
       "      <td>1455</td>\n",
       "      <td>1459</td>\n",
       "      <td>-4</td>\n",
       "      <td>1655</td>\n",
       "      <td>1645</td>\n",
       "      <td>10.0</td>\n",
       "      <td>B6</td>\n",
       "      <td>1053</td>\n",
       "      <td>N203JB</td>\n",
       "      <td>JFK</td>\n",
       "      <td>PIT</td>\n",
       "      <td>87.0</td>\n",
       "      <td>340</td>\n",
       "      <td>14</td>\n",
       "      <td>59</td>\n",
       "      <td>01-01-2013 14:00</td>\n",
       "    </tr>\n",
       "    <tr>\n",
       "      <th>1</th>\n",
       "      <td>2013</td>\n",
       "      <td>1</td>\n",
       "      <td>1</td>\n",
       "      <td>1455</td>\n",
       "      <td>1500</td>\n",
       "      <td>-5</td>\n",
       "      <td>1753</td>\n",
       "      <td>1810</td>\n",
       "      <td>-17.0</td>\n",
       "      <td>DL</td>\n",
       "      <td>1997</td>\n",
       "      <td>N997DL</td>\n",
       "      <td>LGA</td>\n",
       "      <td>PBI</td>\n",
       "      <td>152.0</td>\n",
       "      <td>1035</td>\n",
       "      <td>15</td>\n",
       "      <td>0</td>\n",
       "      <td>01-01-2013 15:00</td>\n",
       "    </tr>\n",
       "    <tr>\n",
       "      <th>2</th>\n",
       "      <td>2013</td>\n",
       "      <td>1</td>\n",
       "      <td>1</td>\n",
       "      <td>1456</td>\n",
       "      <td>1500</td>\n",
       "      <td>-4</td>\n",
       "      <td>1649</td>\n",
       "      <td>1632</td>\n",
       "      <td>17.0</td>\n",
       "      <td>UA</td>\n",
       "      <td>685</td>\n",
       "      <td>N802UA</td>\n",
       "      <td>LGA</td>\n",
       "      <td>ORD</td>\n",
       "      <td>140.0</td>\n",
       "      <td>733</td>\n",
       "      <td>15</td>\n",
       "      <td>0</td>\n",
       "      <td>01-01-2013 15:00</td>\n",
       "    </tr>\n",
       "    <tr>\n",
       "      <th>3</th>\n",
       "      <td>2013</td>\n",
       "      <td>1</td>\n",
       "      <td>1</td>\n",
       "      <td>1456</td>\n",
       "      <td>1455</td>\n",
       "      <td>1</td>\n",
       "      <td>1830</td>\n",
       "      <td>1813</td>\n",
       "      <td>17.0</td>\n",
       "      <td>UA</td>\n",
       "      <td>1134</td>\n",
       "      <td>N24212</td>\n",
       "      <td>EWR</td>\n",
       "      <td>AUS</td>\n",
       "      <td>252.0</td>\n",
       "      <td>1504</td>\n",
       "      <td>14</td>\n",
       "      <td>55</td>\n",
       "      <td>01-01-2013 14:00</td>\n",
       "    </tr>\n",
       "    <tr>\n",
       "      <th>4</th>\n",
       "      <td>2013</td>\n",
       "      <td>1</td>\n",
       "      <td>1</td>\n",
       "      <td>1457</td>\n",
       "      <td>1500</td>\n",
       "      <td>-3</td>\n",
       "      <td>1758</td>\n",
       "      <td>1815</td>\n",
       "      <td>-17.0</td>\n",
       "      <td>UA</td>\n",
       "      <td>379</td>\n",
       "      <td>N401UA</td>\n",
       "      <td>EWR</td>\n",
       "      <td>RSW</td>\n",
       "      <td>166.0</td>\n",
       "      <td>1068</td>\n",
       "      <td>15</td>\n",
       "      <td>0</td>\n",
       "      <td>01-01-2013 15:00</td>\n",
       "    </tr>\n",
       "  </tbody>\n",
       "</table>\n",
       "</div>"
      ],
      "text/plain": [
       "   year  month  day  dep_time  sched_dep_time  dep_delay  arr_time  \\\n",
       "0  2013      1    1      1455            1459         -4      1655   \n",
       "1  2013      1    1      1455            1500         -5      1753   \n",
       "2  2013      1    1      1456            1500         -4      1649   \n",
       "3  2013      1    1      1456            1455          1      1830   \n",
       "4  2013      1    1      1457            1500         -3      1758   \n",
       "\n",
       "   sched_arr_time  arr_delay carrier  flight tailnum origin dest  air_time  \\\n",
       "0            1645       10.0      B6    1053  N203JB    JFK  PIT      87.0   \n",
       "1            1810      -17.0      DL    1997  N997DL    LGA  PBI     152.0   \n",
       "2            1632       17.0      UA     685  N802UA    LGA  ORD     140.0   \n",
       "3            1813       17.0      UA    1134  N24212    EWR  AUS     252.0   \n",
       "4            1815      -17.0      UA     379  N401UA    EWR  RSW     166.0   \n",
       "\n",
       "   distance  hour  minute         time_hour  \n",
       "0       340    14      59  01-01-2013 14:00  \n",
       "1      1035    15       0  01-01-2013 15:00  \n",
       "2       733    15       0  01-01-2013 15:00  \n",
       "3      1504    14      55  01-01-2013 14:00  \n",
       "4      1068    15       0  01-01-2013 15:00  "
      ]
     },
     "execution_count": 5,
     "metadata": {},
     "output_type": "execute_result"
    }
   ],
   "source": [
    "# Question 1 - Load data set using pandas function and print last 5 records.\n",
    "flightdf = pd.read_csv('flight.csv')\n",
    "flightdf.head()"
   ]
  },
  {
   "cell_type": "code",
   "execution_count": 6,
   "id": "baec2b5c",
   "metadata": {},
   "outputs": [
    {
     "data": {
      "text/plain": [
       "3781"
      ]
     },
     "execution_count": 6,
     "metadata": {},
     "output_type": "execute_result"
    }
   ],
   "source": [
    "# Question 2 - Print the number of flight from one point to another. \n",
    "flightdf.size"
   ]
  },
  {
   "cell_type": "code",
   "execution_count": 7,
   "id": "e68543f5",
   "metadata": {},
   "outputs": [
    {
     "data": {
      "text/plain": [
       "(199, 19)"
      ]
     },
     "execution_count": 7,
     "metadata": {},
     "output_type": "execute_result"
    }
   ],
   "source": [
    "flightdf.shape"
   ]
  },
  {
   "cell_type": "code",
   "execution_count": 8,
   "id": "345f3ba9",
   "metadata": {},
   "outputs": [],
   "source": [
    "# Question 3 - Find the best airline in terms of departure."
   ]
  },
  {
   "cell_type": "code",
   "execution_count": 9,
   "id": "b4483fdd",
   "metadata": {},
   "outputs": [
    {
     "name": "stdout",
     "output_type": "stream",
     "text": [
      "(199, 19)\n",
      "3781\n"
     ]
    }
   ],
   "source": [
    "# Question 6 - Find the size and shape of data set \n",
    "print(flightdf.shape)\n",
    "print(flightdf.size)"
   ]
  },
  {
   "cell_type": "code",
   "execution_count": 10,
   "id": "90629990",
   "metadata": {},
   "outputs": [
    {
     "data": {
      "text/plain": [
       "Index(['year', 'month', 'day', 'dep_time', 'sched_dep_time', 'dep_delay',\n",
       "       'arr_time', 'sched_arr_time', 'arr_delay', 'carrier', 'flight',\n",
       "       'tailnum', 'origin', 'dest', 'air_time', 'distance', 'hour', 'minute',\n",
       "       'time_hour'],\n",
       "      dtype='object')"
      ]
     },
     "execution_count": 10,
     "metadata": {},
     "output_type": "execute_result"
    }
   ],
   "source": [
    "# Question 7 - Print all the column header of the dataframe\n",
    "flightdf.columns"
   ]
  },
  {
   "cell_type": "code",
   "execution_count": 12,
   "id": "8dda9005",
   "metadata": {},
   "outputs": [
    {
     "data": {
      "text/plain": [
       "0"
      ]
     },
     "execution_count": 12,
     "metadata": {},
     "output_type": "execute_result"
    }
   ],
   "source": [
    "# Question 8 - Remove all the duplicate values from the data frame\n",
    "flightdf.duplicated().sum()"
   ]
  },
  {
   "cell_type": "code",
   "execution_count": 13,
   "id": "593f2e92",
   "metadata": {},
   "outputs": [],
   "source": [
    "# there is no duplicate values in dataset but here is the code for remove duplicates\n",
    "flightdf.drop_duplicates(inplace=True)"
   ]
  },
  {
   "cell_type": "code",
   "execution_count": 14,
   "id": "ef3ad7ac",
   "metadata": {},
   "outputs": [
    {
     "data": {
      "text/plain": [
       "year              0\n",
       "month             0\n",
       "day               0\n",
       "dep_time          0\n",
       "sched_dep_time    0\n",
       "dep_delay         0\n",
       "arr_time          0\n",
       "sched_arr_time    0\n",
       "arr_delay         3\n",
       "carrier           0\n",
       "flight            0\n",
       "tailnum           0\n",
       "origin            0\n",
       "dest              0\n",
       "air_time          3\n",
       "distance          0\n",
       "hour              0\n",
       "minute            0\n",
       "time_hour         0\n",
       "dtype: int64"
      ]
     },
     "execution_count": 14,
     "metadata": {},
     "output_type": "execute_result"
    }
   ],
   "source": [
    "# Question 9 - Count the null values in the database and replace with mean value.\n",
    "flightdf.isnull().sum()"
   ]
  },
  {
   "cell_type": "code",
   "execution_count": 16,
   "id": "d1f1d76e",
   "metadata": {},
   "outputs": [],
   "source": [
    "# there is null values in arr_delay\n",
    "ardelay = flightdf['arr_delay']\n",
    "ardelay.fillna(ardelay.median(),inplace=True)"
   ]
  },
  {
   "cell_type": "code",
   "execution_count": 17,
   "id": "26ff5bd4",
   "metadata": {},
   "outputs": [
    {
     "data": {
      "text/plain": [
       "0"
      ]
     },
     "execution_count": 17,
     "metadata": {},
     "output_type": "execute_result"
    }
   ],
   "source": [
    "ardelay.isnull().sum()"
   ]
  },
  {
   "cell_type": "code",
   "execution_count": null,
   "id": "d5727876",
   "metadata": {},
   "outputs": [],
   "source": []
  }
 ],
 "metadata": {
  "kernelspec": {
   "display_name": "Python 3 (ipykernel)",
   "language": "python",
   "name": "python3"
  },
  "language_info": {
   "codemirror_mode": {
    "name": "ipython",
    "version": 3
   },
   "file_extension": ".py",
   "mimetype": "text/x-python",
   "name": "python",
   "nbconvert_exporter": "python",
   "pygments_lexer": "ipython3",
   "version": "3.9.13"
  }
 },
 "nbformat": 4,
 "nbformat_minor": 5
}
